{
 "cells": [
  {
   "cell_type": "markdown",
   "metadata": {},
   "source": [
    "Módulo nativo csv"
   ]
  },
  {
   "cell_type": "code",
   "execution_count": null,
   "metadata": {},
   "outputs": [],
   "source": [
    "import csv\n",
    "archivo = open(r'C:\\Users\\gonza\\Documents\\Trabajo\\Henry\\Data Science\\DS-M1\\Clase 04\\hospitales2.csv', encoding='utf-8')\n",
    "tabla = csv.reader(archivo)\n",
    "with open('salida.csv', 'w', encoding='utf-8', newline = '') as salida:\n",
    "   salida_writer = csv.writer(salida)\n",
    "   next(tabla)\n",
    "   salida_writer.writerow(['latitude', 'longitude', 'name', 'label'])\n",
    "   for linea in tabla:\n",
    "      coordenadas = linea[0][7:-1].split()\n",
    "      salida_writer.writerow([coordenadas[1], coordenadas[0], linea[8], linea[3]])\n",
    "\n",
    "\n"
   ]
  },
  {
   "cell_type": "markdown",
   "metadata": {},
   "source": [
    "Compresión de Listas"
   ]
  },
  {
   "cell_type": "code",
   "execution_count": null,
   "metadata": {},
   "outputs": [],
   "source": [
    "numeros = [2,4,7,9]\n",
    "cuadrados = []\n",
    "for numero in numeros:\n",
    "   cuadrados.append(numero ** 2)\n",
    "print(cuadrados)"
   ]
  },
  {
   "cell_type": "code",
   "execution_count": null,
   "metadata": {},
   "outputs": [],
   "source": [
    "cuadrados = list(map(lambda x: x ** 2, numeros))\n",
    "print(cuadrados)"
   ]
  },
  {
   "cell_type": "code",
   "execution_count": null,
   "metadata": {},
   "outputs": [],
   "source": [
    "cuadrados = [num ** 2 for num in numeros if num > 4]\n",
    "print(cuadrados)"
   ]
  },
  {
   "cell_type": "markdown",
   "metadata": {},
   "source": [
    "Pandas"
   ]
  },
  {
   "cell_type": "code",
   "execution_count": null,
   "metadata": {},
   "outputs": [],
   "source": [
    "import pandas as pd"
   ]
  },
  {
   "cell_type": "code",
   "execution_count": null,
   "metadata": {},
   "outputs": [],
   "source": [
    "df = pd.read_csv(r'C:\\Users\\gonza\\Documents\\Trabajo\\Henry\\Data Science\\DS-M1\\Clase 04\\hospitales2.csv', encoding='utf-8')"
   ]
  },
  {
   "cell_type": "code",
   "execution_count": 28,
   "metadata": {},
   "outputs": [],
   "source": [
    "coordenadas = [coord.split() for coord in df['WKT']]\n",
    "longitud = [float(elemento[1].strip('(')) for elemento in coordenadas]\n",
    "latitud = [float(elemento[2].strip(')')) for elemento in coordenadas]"
   ]
  },
  {
   "cell_type": "code",
   "execution_count": 31,
   "metadata": {},
   "outputs": [],
   "source": [
    "datos = dict(latitude=latitud, longitude=longitud, name=df['DOM_NORMA'], label=df['NOM_MAP'])\n",
    "pd.DataFrame(datos).to_csv('hospitales_salida.csv', index=False)"
   ]
  }
 ],
 "metadata": {
  "interpreter": {
   "hash": "11938c6bc6919ae2720b4d5011047913343b08a43b18698fd82dedb0d4417594"
  },
  "kernelspec": {
   "display_name": "Python 3.9.7 64-bit",
   "language": "python",
   "name": "python3"
  },
  "language_info": {
   "codemirror_mode": {
    "name": "ipython",
    "version": 3
   },
   "file_extension": ".py",
   "mimetype": "text/x-python",
   "name": "python",
   "nbconvert_exporter": "python",
   "pygments_lexer": "ipython3",
   "version": "3.9.7"
  },
  "orig_nbformat": 4
 },
 "nbformat": 4,
 "nbformat_minor": 2
}
