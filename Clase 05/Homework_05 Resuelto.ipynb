{
 "cells": [
  {
   "cell_type": "markdown",
   "metadata": {},
   "source": [
    "# Práctica Clase 5"
   ]
  },
  {
   "cell_type": "markdown",
   "metadata": {},
   "source": [
    "1) Implementar un juego, que consista en apilar números enteros del 1 al 20, de forma aleatoria, para lo cual debe usarse una estructura de Pila. \n",
    "Luego, el usuario debe elegir un número de veces en que se va a quitar elementos de la pila, los cuales, sumados entre sí, no deben superar el valor de 50.\n",
    "El usuario pierde si la suma supera ese valor. Si no lo supera, gana, pero su calificación será 10 menos el número elementos que falten quitar para todavía no superar 50.\n",
    "El programa debe informar si perdió, y si ganó, con qué calificación lo hizo.\n",
    "\n",
    "Consideraciones:<br>\n",
    "a. Se puede usar la función input() para obtener una entrada de teclado.<br>\n",
    "b. Se puede usar la el modulo random para obtener valores aleatorios."
   ]
  },
  {
   "cell_type": "code",
   "execution_count": 20,
   "metadata": {},
   "outputs": [],
   "source": [
    "import random as r"
   ]
  },
  {
   "cell_type": "code",
   "execution_count": 21,
   "metadata": {},
   "outputs": [],
   "source": [
    "class Juego_Pila(object):\n",
    "    def __init__(self):\n",
    "        self.__list = []\n",
    "        \n",
    "    def crearPila(self):\n",
    "        self.__list = list(range(1,21))\n",
    "\n",
    "    def jugar(self):\n",
    "        self.crearPila()\n",
    "        self.__desordenarPilaAleatorio()\n",
    "        calificacion = 10\n",
    "        nro = 20\n",
    "        lista_esperados = ['1','2','3','4','5','6','7','8','9','10','11','12','13','14','15','16','17','18','19']\n",
    "        while (nro > 19):\n",
    "            nro = input('Ingresar la cantidad de elementos:')\n",
    "            if (nro not in lista_esperados):\n",
    "                nro = 20\n",
    "            else:\n",
    "                nro = int(nro)\n",
    "        print('Pila Original:')\n",
    "        self.__mostrarPila()\n",
    "        suma = 0\n",
    "        while (nro > 0):\n",
    "            suma += self.__pop()\n",
    "            nro-= 1\n",
    "\n",
    "        print('Pila Obtenida:')\n",
    "        self.__mostrarPila()\n",
    "        nro = self.__size()\n",
    "        print('Con esa cantidad de elementos se sumó:', suma)\n",
    "        if(suma > 50):\n",
    "            print('No se cumplió el objetivo')\n",
    "        else:\n",
    "            while(suma <= 50):\n",
    "                suma += self.__pop()\n",
    "                if (suma <= 50):\n",
    "                    calificacion-=1\n",
    "            print('objetivo cumplido!!! Calificacion:', calificacion)\n",
    "        \n",
    "    def __desordenarPilaAleatorio(self):\n",
    "        for i in range(0,20):\n",
    "            aux = self.__list[i]\n",
    "            i_rand = r.randint(0,19)\n",
    "            self.__list[i] = self.__list[i_rand]\n",
    "            self.__list[i_rand] = aux\n",
    "\n",
    "    def __mostrarPila(self):\n",
    "        print(self.__list)\n",
    "\n",
    "    # Quitar un elemento de la Pila\n",
    "    def __pop(self):\n",
    "        return self.__list.pop()\n",
    "\n",
    "    # Devuelve el número de elementos en la Pila\n",
    "    def __size(self):\n",
    "         return len(self.__list)"
   ]
  },
  {
   "cell_type": "code",
   "execution_count": 22,
   "metadata": {},
   "outputs": [],
   "source": [
    "j=Juego_Pila()"
   ]
  },
  {
   "cell_type": "code",
   "execution_count": 23,
   "metadata": {},
   "outputs": [
    {
     "name": "stdout",
     "output_type": "stream",
     "text": [
      "Pila Original:\n",
      "[1, 9, 12, 18, 15, 20, 4, 8, 6, 17, 2, 14, 3, 10, 19, 7, 5, 16, 13, 11]\n",
      "Pila Obtenida:\n",
      "[1, 9, 12, 18, 15, 20, 4, 8, 6, 17, 2, 14, 3, 10, 19, 7, 5, 16, 13]\n",
      "Con esa cantidad de elementos se sumó: 11\n",
      "objetivo cumplido!!! Calificacion: 7\n"
     ]
    }
   ],
   "source": [
    "j.jugar()"
   ]
  },
  {
   "cell_type": "code",
   "execution_count": 87,
   "metadata": {},
   "outputs": [
    {
     "name": "stdout",
     "output_type": "stream",
     "text": [
      "Pila Original:\n",
      "[8, 14, 5, 3, 4, 11, 7, 1, 17, 15, 19, 2, 10, 16, 20, 12, 13, 9, 6, 18]\n",
      "Pila Obtenida:\n",
      "[8, 14, 5, 3, 4, 11, 7, 1, 17, 15, 19, 2, 10, 16, 20, 12, 13]\n",
      "Con esa cantidad de elementos se sumó: 33\n",
      "objetivo cumplido!!! Calificacion: 9\n"
     ]
    }
   ],
   "source": [
    "j.jugar()"
   ]
  },
  {
   "cell_type": "markdown",
   "metadata": {},
   "source": [
    "2) Implementar un juego donde constas de 2 jarras, de capacidad 5 y 3 litros respectivamente, y debes colocar 4 litros en la jarra de 5L.\n",
    "Las opciones posibles son:\n",
    "* Llenar la jarra de 3 litros\n",
    "* Llenar la jarra de 5 litros\n",
    "* Vaciar la jarra de 3 litros\n",
    "* Vaciar la jarra de 5 litros\n",
    "* Verter el contenido de la jarra de 3 litros en la de 5 litros\n",
    "* Verter el contenido de la jarra de 5 litros en la de 3 litros"
   ]
  },
  {
   "cell_type": "markdown",
   "metadata": {},
   "source": [
    "<img src='Juego_Jarras.png'>"
   ]
  }
 ],
 "metadata": {
  "kernelspec": {
   "display_name": "Python 3",
   "language": "python",
   "name": "python3"
  },
  "language_info": {
   "codemirror_mode": {
    "name": "ipython",
    "version": 3
   },
   "file_extension": ".py",
   "mimetype": "text/x-python",
   "name": "python",
   "nbconvert_exporter": "python",
   "pygments_lexer": "ipython3",
   "version": "3.9.7"
  }
 },
 "nbformat": 4,
 "nbformat_minor": 4
}
