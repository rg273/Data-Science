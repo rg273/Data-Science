{
 "cells": [
  {
   "cell_type": "markdown",
   "metadata": {},
   "source": [
    "# Práctica Clase 5"
   ]
  },
  {
   "cell_type": "markdown",
   "metadata": {},
   "source": [
    "1) Implementar un juego, que consista en apilar números enteros del 1 al 20, de forma aleatoria, para lo cual debe usarse una estructura de Pila. \n",
    "Luego, el usuario debe elegir un número de veces en que se va a quitar elementos de la pila, los cuales, sumados entre sí, no deben superar el valor de 50.\n",
    "El usuario pierde si la suma supera ese valor. Si no lo supera, gana, pero su calificación será 10 menos el número elementos que falten quitar para todavía no superar 50.\n",
    "El programa debe informar si perdió, y si ganó, con qué calificación lo hizo.\n",
    "\n",
    "Consideraciones:<br>\n",
    "a. Se puede usar la función input() para obtener una entrada de teclado.<br>\n",
    "b. Se puede usar la el modulo random para obtener valores aleatorios."
   ]
  },
  {
   "cell_type": "code",
   "execution_count": 20,
   "metadata": {},
   "outputs": [],
   "source": [
    "import random as r"
   ]
  },
  {
   "cell_type": "code",
   "execution_count": 21,
   "metadata": {},
   "outputs": [],
   "source": [
    "class Juego_Pila(object):\n",
    "    def __init__(self):\n",
    "        self.__list = []\n",
    "        \n",
    "    def crearPila(self):\n",
    "        self.__list = list(range(1,21))\n",
    "\n",
    "    def jugar(self):\n",
    "        self.crearPila()\n",
    "        self.__desordenarPilaAleatorio()\n",
    "        calificacion = 10\n",
    "        nro = 20\n",
    "        lista_esperados = ['1','2','3','4','5','6','7','8','9','10','11','12','13','14','15','16','17','18','19']\n",
    "        while (nro > 19):\n",
    "            nro = input('Ingresar la cantidad de elementos:')\n",
    "            if (nro not in lista_esperados):\n",
    "                nro = 20\n",
    "            else:\n",
    "                nro = int(nro)\n",
    "        print('Pila Original:')\n",
    "        self.__mostrarPila()\n",
    "        suma = 0\n",
    "        while (nro > 0):\n",
    "            suma += self.__pop()\n",
    "            nro-= 1\n",
    "\n",
    "        print('Pila Obtenida:')\n",
    "        self.__mostrarPila()\n",
    "        nro = self.__size()\n",
    "        print('Con esa cantidad de elementos se sumó:', suma)\n",
    "        if(suma > 50):\n",
    "            print('No se cumplió el objetivo')\n",
    "        else:\n",
    "            while(suma <= 50):\n",
    "                suma += self.__pop()\n",
    "                if (suma <= 50):\n",
    "                    calificacion-=1\n",
    "            print('objetivo cumplido!!! Calificacion:', calificacion)\n",
    "        \n",
    "    def __desordenarPilaAleatorio(self):\n",
    "        for i in range(0,20):\n",
    "            aux = self.__list[i]\n",
    "            i_rand = r.randint(0,19)\n",
    "            self.__list[i] = self.__list[i_rand]\n",
    "            self.__list[i_rand] = aux\n",
    "\n",
    "    def __mostrarPila(self):\n",
    "        print(self.__list)\n",
    "\n",
    "    # Quitar un elemento de la Pila\n",
    "    def __pop(self):\n",
    "        return self.__list.pop()\n",
    "\n",
    "    # Devuelve el número de elementos en la Pila\n",
    "    def __size(self):\n",
    "         return len(self.__list)"
   ]
  },
  {
   "cell_type": "code",
   "execution_count": 22,
   "metadata": {},
   "outputs": [],
   "source": [
    "j=Juego_Pila()"
   ]
  },
  {
   "cell_type": "code",
   "execution_count": 23,
   "metadata": {},
   "outputs": [
    {
     "name": "stdout",
     "output_type": "stream",
     "text": [
      "Pila Original:\n",
      "[1, 9, 12, 18, 15, 20, 4, 8, 6, 17, 2, 14, 3, 10, 19, 7, 5, 16, 13, 11]\n",
      "Pila Obtenida:\n",
      "[1, 9, 12, 18, 15, 20, 4, 8, 6, 17, 2, 14, 3, 10, 19, 7, 5, 16, 13]\n",
      "Con esa cantidad de elementos se sumó: 11\n",
      "objetivo cumplido!!! Calificacion: 7\n"
     ]
    }
   ],
   "source": [
    "j.jugar()"
   ]
  },
  {
   "cell_type": "code",
   "execution_count": 87,
   "metadata": {},
   "outputs": [
    {
     "name": "stdout",
     "output_type": "stream",
     "text": [
      "Pila Original:\n",
      "[8, 14, 5, 3, 4, 11, 7, 1, 17, 15, 19, 2, 10, 16, 20, 12, 13, 9, 6, 18]\n",
      "Pila Obtenida:\n",
      "[8, 14, 5, 3, 4, 11, 7, 1, 17, 15, 19, 2, 10, 16, 20, 12, 13]\n",
      "Con esa cantidad de elementos se sumó: 33\n",
      "objetivo cumplido!!! Calificacion: 9\n"
     ]
    }
   ],
   "source": [
    "j.jugar()"
   ]
  },
  {
   "cell_type": "markdown",
   "metadata": {},
   "source": [
    "2) Implementar un juego donde constas de 2 jarras, de capacidad 5 y 3 litros respectivamente, y debes colocar 4 litros en la jarra de 5L.\n",
    "Las opciones posibles son:\n",
    "* Llenar la jarra de 3 litros\n",
    "* Llenar la jarra de 5 litros\n",
    "* Vaciar la jarra de 3 litros\n",
    "* Vaciar la jarra de 5 litros\n",
    "* Verter el contenido de la jarra de 3 litros en la de 5 litros\n",
    "* Verter el contenido de la jarra de 5 litros en la de 3 litros"
   ]
  },
  {
   "cell_type": "markdown",
   "metadata": {},
   "source": [
    "<img src='Juego_Jarras.png'>"
   ]
  },
  {
   "cell_type": "code",
   "execution_count": 1,
   "metadata": {},
   "outputs": [],
   "source": [
    "class Jarra():\n",
    "    def __init__(self, cap):\n",
    "        self.__elemento_agua = '*'\n",
    "        self.__elemento_vacio = ' '\n",
    "        self.__capacidad = cap\n",
    "        self.__lista = []\n",
    "        i = 0\n",
    "        while(i < cap):\n",
    "            self.__lista.append(self.__elemento_vacio)\n",
    "            i+=1\n",
    "\n",
    "    def vaciar(self):\n",
    "        i = 0\n",
    "        while(i < self.__capacidad):\n",
    "            self.__lista[i] = self.__elemento_vacio\n",
    "            i+=1\n",
    "    \n",
    "    def llenar(self):\n",
    "        i = 0\n",
    "        while(i < self.__capacidad):\n",
    "            self.__lista[i] = self.__elemento_agua\n",
    "            i+=1\n",
    "\n",
    "    def mostrarJarra(self):\n",
    "        print('Jarra de', self.__capacidad, 'litros:')\n",
    "        for e in self.__lista:\n",
    "            print('|',e,'|')\n",
    "        print('-----')\n",
    "\n",
    "    def cantidadLitros(self):\n",
    "        cantidad = 0\n",
    "        for e in self.__lista:\n",
    "            if(e == self.__elemento_agua):\n",
    "                cantidad+=1\n",
    "        return cantidad\n",
    "\n",
    "    def quitarLitros(self, litros):\n",
    "        i = 0\n",
    "        encontrado = False\n",
    "        while(not encontrado):\n",
    "            if (self.__lista[i] == self.__elemento_agua):\n",
    "                encontrado = True\n",
    "            i+=1\n",
    "        i-=1\n",
    "        while(litros > 0):\n",
    "            self.__lista[i] = self.__elemento_vacio\n",
    "            i+=1\n",
    "            litros-=1\n",
    "\n",
    "    def agregarLitros(self, litros):\n",
    "        i = 0\n",
    "        while((i < self.__capacidad) and (self.__lista[i] == self.__elemento_vacio)):\n",
    "            i+=1\n",
    "        while(litros > 0):\n",
    "            i-=1\n",
    "            self.__lista[i] = self.__elemento_agua\n",
    "            litros-=1\n",
    "    "
   ]
  },
  {
   "cell_type": "code",
   "execution_count": 2,
   "metadata": {},
   "outputs": [],
   "source": [
    "j = Jarra(5)"
   ]
  },
  {
   "cell_type": "code",
   "execution_count": 11,
   "metadata": {},
   "outputs": [
    {
     "name": "stdout",
     "output_type": "stream",
     "text": [
      "Jarra de 5 litros:\n",
      "|   |\n",
      "|   |\n",
      "| * |\n",
      "| * |\n",
      "| * |\n",
      "-----\n"
     ]
    }
   ],
   "source": [
    "j.mostrarJarra()"
   ]
  },
  {
   "cell_type": "code",
   "execution_count": 10,
   "metadata": {},
   "outputs": [],
   "source": [
    "j.agregarLitros(1)"
   ]
  },
  {
   "cell_type": "code",
   "execution_count": 8,
   "metadata": {},
   "outputs": [],
   "source": [
    "j.quitarLitros(3)"
   ]
  },
  {
   "cell_type": "code",
   "execution_count": 12,
   "metadata": {},
   "outputs": [],
   "source": [
    "class JuegoJarras():\n",
    "    def __init__(self):\n",
    "        self.__j3L = Jarra(3)\n",
    "        self.__j5L = Jarra(5)\n",
    "        self.__opciones_validas = ['1','2','3','4','5','6','7']\n",
    "\n",
    "    def jugar(self):\n",
    "        nro = 0\n",
    "        while(nro < 7):\n",
    "            print('Juego de las Jarras!:')\n",
    "            print('*********************')\n",
    "            print('1 - Llenar jarra de 3L')\n",
    "            print('2 - Llenar jarra de 5L')\n",
    "            print('3 - Vaciar jarra de 3L')\n",
    "            print('4 - Vaciar jarra de 5L')\n",
    "            print('5 - Verter el contenido de jarra de 3L en la jarra de 5L')\n",
    "            print('6 - Verter el contenido de jarra de 5L en la jarra de 3L')\n",
    "            print('7 - Salir')\n",
    "            print('****************')\n",
    "            self.__j3L.mostrarJarra()\n",
    "            self.__j5L.mostrarJarra()\n",
    "            print('****************')\n",
    "            nro = input('Por favor, ingrese una opción:')\n",
    "            if (nro not in self.__opciones_validas):\n",
    "                nro = 0\n",
    "            else:\n",
    "                nro = int(nro)\n",
    "            if (nro == 1):\n",
    "                self.__j3L.llenar()\n",
    "            elif (nro == 2):\n",
    "                self.__j5L.llenar()\n",
    "            elif (nro == 3):\n",
    "                self.__j3L.vaciar()\n",
    "            elif (nro == 4):\n",
    "                self.__j5L.vaciar()\n",
    "            elif (nro == 5):\n",
    "                jarra3L = self.__j3L.cantidadLitros()\n",
    "                jarra5L = self.__j5L.cantidadLitros()\n",
    "                dispJarra5L = 5 - jarra5L\n",
    "                if (dispJarra5L < jarra3L):\n",
    "                    intercambio = dispJarra5L\n",
    "                else:\n",
    "                    intercambio = jarra3L\n",
    "                self.__j3L.quitarLitros(intercambio)\n",
    "                self.__j5L.agregarLitros(intercambio)\n",
    "            elif (nro == 6):\n",
    "                jarra3L = self.__j3L.cantidadLitros()\n",
    "                jarra5L = self.__j5L.cantidadLitros()\n",
    "                dispJarra3L = 3 - jarra3L\n",
    "                if (dispJarra3L < jarra5L):\n",
    "                    intercambio = dispJarra3L\n",
    "                else:\n",
    "                    intercambio = jarra5L\n",
    "                self.__j5L.quitarLitros(intercambio)\n",
    "                self.__j3L.agregarLitros(intercambio)\n",
    "\n",
    "            if(self.__j5L.cantidadLitros() == 4):\n",
    "                print('Felicitaciones!:')\n",
    "                print('****************')\n",
    "                self.__j3L.mostrarJarra()\n",
    "                self.__j5L.mostrarJarra()\n",
    "                print('****************')\n",
    "                print('1 - Jugar de nuevo')\n",
    "                print('2 - Terminar')\n",
    "                nro = input('Por favor, ingrese una opción:')\n",
    "                if (nro not in self.__opciones_validas):\n",
    "                    nro = 0\n",
    "                else:\n",
    "                    nro = int(nro)\n",
    "                    if (nro == 1):\n",
    "                        self.__j3L.vaciar()\n",
    "                        self.__j5L.vaciar()\n",
    "                    elif (nro == 2):\n",
    "                        nro = 7"
   ]
  }
 ],
 "metadata": {
  "kernelspec": {
   "display_name": "Python 3",
   "language": "python",
   "name": "python3"
  },
  "language_info": {
   "codemirror_mode": {
    "name": "ipython",
    "version": 3
   },
   "file_extension": ".py",
   "mimetype": "text/x-python",
   "name": "python",
   "nbconvert_exporter": "python",
   "pygments_lexer": "ipython3",
   "version": "3.9.7"
  }
 },
 "nbformat": 4,
 "nbformat_minor": 4
}
