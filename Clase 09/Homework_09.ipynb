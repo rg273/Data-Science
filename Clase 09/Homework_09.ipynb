{
 "cells": [
  {
   "cell_type": "markdown",
   "metadata": {},
   "source": [
    "# Práctica Clase 9"
   ]
  },
  {
   "cell_type": "markdown",
   "metadata": {},
   "source": [
    "<h2>Algoritmos!</h2>\n",
    "<p>En la imagen se representa un pequeño robot abeja en una esquina del cuadrilátero, y en la otra esquina una flor. El objetivo del robot abeja es llegar hasta la flor, esquivando los arbustos que hay de por medio.</p>\n",
    "<p>¿Se animan a encontrar un procedimiento que lo haga?</p>\n",
    "<img src=\"../_src/assets/08-Algoritmos_1/abejita.jpg\">\n"
   ]
  },
  {
   "cell_type": "markdown",
   "metadata": {},
   "source": [
    "<p>A continucación, se provee una estructura de datos que representa el tablero donde se va a mover el robot abeja, utilizando un array de Numpy:</p>\n",
    "<ul>\n",
    "    <ol>Los ceros (0) representan un casillero vaciío</ol>\n",
    "    <ol>Los unos (1) representan una ubicación, donde hay un arbusto. Por dónde No se puede pasar</ol>\n",
    "    <ol>El dos (2) representa la ubicación inicial del robot abeja</ol>\n",
    "    <ol>El tres (3) representa la ubicación inicial de la flor</ol>\n",
    "</ul>\n",
    "<p>Recordar que los movimientos posibles son 4:</p>\n",
    "<ul>\n",
    "    <ol>Arriba</ol>\n",
    "    <ol>Abajo</ol>\n",
    "    <ol>Izquierda</ol>\n",
    "    <ol>Derecha</ol>\n",
    "</ul>"
   ]
  },
  {
   "cell_type": "markdown",
   "metadata": {},
   "source": [
    "<h3>Ejercitación:</h3>\n",
    "<p>Se debe resolver el camino más corto utilizando la clase 'Grafo' provista</p>"
   ]
  },
  {
   "cell_type": "code",
   "execution_count": 3,
   "metadata": {},
   "outputs": [],
   "source": [
    "import numpy as np\n",
    "\n",
    "tablero = np.array([[0,0,0,0,1,0,3],\n",
    "                    [1,1,0,0,0,0,0],\n",
    "                    [0,0,0,1,0,1,1],\n",
    "                    [0,1,0,1,0,0,0],\n",
    "                    [1,1,0,0,0,1,0],\n",
    "                    [0,0,0,1,1,0,0],\n",
    "                    [2,0,0,0,0,0,0]])"
   ]
  }
 ],
 "metadata": {
  "kernelspec": {
   "display_name": "Python 3",
   "language": "python",
   "name": "python3"
  },
  "language_info": {
   "codemirror_mode": {
    "name": "ipython",
    "version": 3
   },
   "file_extension": ".py",
   "mimetype": "text/x-python",
   "name": "python",
   "nbconvert_exporter": "python",
   "pygments_lexer": "ipython3",
   "version": "3.9.7"
  }
 },
 "nbformat": 4,
 "nbformat_minor": 4
}
