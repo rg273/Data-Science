{
 "cells": [
  {
   "cell_type": "markdown",
   "metadata": {},
   "source": [
    "# Práctica Clase 7"
   ]
  },
  {
   "cell_type": "markdown",
   "metadata": {},
   "source": [
    "1) Diseñar una clase que permita trabajar con un árbol binario y que contenga los métodos:<br>\n",
    "    * insertaVal: para insertar un dato<br>\n",
    "    * buscaVal: que devuelva True o False si existe o no un dato<br>\n",
    "    * verVal: que imprima por pantalla los valores del árbol<br>\n",
    "\n",
    "Nota: Se puede utilizar la recursividad\n"
   ]
  },
  {
   "cell_type": "code",
   "execution_count": 59,
   "metadata": {},
   "outputs": [],
   "source": [
    "class Nodo: \n",
    "    def __init__(self, dato):\n",
    "        self.izq = None\n",
    "        self.der = None\n",
    "        self.dato = dato\n",
    "\n",
    "    def insertaVal(self, dato):\n",
    "        if self.dato:\n",
    "            if dato < self.dato:\n",
    "                if self.izq == None:\n",
    "                    self.izq = Nodo(dato)\n",
    "                else:\n",
    "                    self.izq.insertaVal(dato)\n",
    "            elif dato > self.dato:\n",
    "                if self.der == None:\n",
    "                    self.der = Nodo(dato)\n",
    "                else:\n",
    "                    self.der.insertaVal(dato)\n",
    "            else:\n",
    "                print('Valor Repetido:', dato, 'en Nodo:', self.dato)\n",
    "        else:\n",
    "            self.dato = dato\n",
    "\n",
    "    def buscaVal(self, lkpval):\n",
    "        if lkpval < self.dato:\n",
    "            if self.izq == None:\n",
    "                return False\n",
    "            return self.izq.buscaVal(lkpval)\n",
    "        elif lkpval > self.dato:\n",
    "            if self.der == None:\n",
    "                return False\n",
    "            return self.der.buscaVal(lkpval)\n",
    "        else:\n",
    "            return True\n",
    "\n",
    "    def verVal(self):\n",
    "        if self.der:\n",
    "            self.der.verVal()\n",
    "        print(self.dato)\n",
    "        if self.izq:\n",
    "            self.izq.verVal()\n",
    "\n",
    "    def contarNodos(self):\n",
    "        contador = 1\n",
    "        if self.der:\n",
    "            contador = contador + self.der.contarNodos()\n",
    "        if self.izq:\n",
    "            contador = contador + self.izq.contarNodos()\n",
    "        return contador\n",
    "\n",
    "    def eliminarNodo(self, lkpval):\n",
    "        #Hay que mejorar!\n",
    "        if lkpval < self.dato:\n",
    "            if self.izq == None:\n",
    "                return False\n",
    "            if(self.izq.eliminarNodo(lkpval)):\n",
    "                self.izq = None\n",
    "                return True\n",
    "        elif lkpval > self.dato:\n",
    "            if self.der == None:\n",
    "                return False\n",
    "            if(self.der.eliminarNodo(lkpval)):\n",
    "                self.der = None\n",
    "                return True\n",
    "        else:\n",
    "            True\n"
   ]
  },
  {
   "cell_type": "code",
   "execution_count": 60,
   "metadata": {},
   "outputs": [],
   "source": [
    "root = Nodo(3)"
   ]
  },
  {
   "cell_type": "code",
   "execution_count": 61,
   "metadata": {},
   "outputs": [],
   "source": [
    "root.insertaVal(2)\n",
    "root.insertaVal(4)\n",
    "root.insertaVal(1)\n",
    "root.insertaVal(5)"
   ]
  },
  {
   "cell_type": "code",
   "execution_count": 62,
   "metadata": {},
   "outputs": [
    {
     "name": "stdout",
     "output_type": "stream",
     "text": [
      "5\n",
      "4\n",
      "3\n",
      "2\n",
      "1\n"
     ]
    }
   ],
   "source": [
    "root.verVal()"
   ]
  },
  {
   "cell_type": "code",
   "execution_count": 63,
   "metadata": {},
   "outputs": [
    {
     "name": "stdout",
     "output_type": "stream",
     "text": [
      "Valor Repetido: 5 en Nodo: 5\n"
     ]
    }
   ],
   "source": [
    "root.insertaVal(5)"
   ]
  },
  {
   "cell_type": "code",
   "execution_count": 64,
   "metadata": {},
   "outputs": [
    {
     "data": {
      "text/plain": [
       "5"
      ]
     },
     "execution_count": 64,
     "metadata": {},
     "output_type": "execute_result"
    }
   ],
   "source": [
    "root.contarNodos()"
   ]
  },
  {
   "cell_type": "code",
   "execution_count": 55,
   "metadata": {},
   "outputs": [],
   "source": [
    "root.insertaVal(15)\n",
    "root.insertaVal(-3)\n",
    "root.insertaVal(20)"
   ]
  },
  {
   "cell_type": "code",
   "execution_count": 65,
   "metadata": {},
   "outputs": [
    {
     "data": {
      "text/plain": [
       "5"
      ]
     },
     "execution_count": 65,
     "metadata": {},
     "output_type": "execute_result"
    }
   ],
   "source": [
    "root.contarNodos()"
   ]
  },
  {
   "cell_type": "code",
   "execution_count": 66,
   "metadata": {},
   "outputs": [],
   "source": [
    "root.eliminarNodo(20)"
   ]
  },
  {
   "cell_type": "code",
   "execution_count": 67,
   "metadata": {},
   "outputs": [
    {
     "name": "stdout",
     "output_type": "stream",
     "text": [
      "5\n",
      "4\n",
      "3\n",
      "2\n",
      "1\n"
     ]
    }
   ],
   "source": [
    "root.verVal()"
   ]
  },
  {
   "cell_type": "code",
   "execution_count": 21,
   "metadata": {},
   "outputs": [
    {
     "name": "stdout",
     "output_type": "stream",
     "text": [
      "8 Encontrado!\n"
     ]
    }
   ],
   "source": [
    "valorBuscado = 8\n",
    "if (root.buscaVal(valorBuscado)):\n",
    "    print(valorBuscado, 'Encontrado!')\n",
    "else:\n",
    "    print(valorBuscado, 'No Encontrado!')"
   ]
  },
  {
   "cell_type": "code",
   "execution_count": 22,
   "metadata": {},
   "outputs": [
    {
     "name": "stdout",
     "output_type": "stream",
     "text": [
      "1\n",
      "3\n",
      "8\n",
      "10\n",
      "13\n",
      "20\n"
     ]
    }
   ],
   "source": [
    "root.verVal()"
   ]
  },
  {
   "cell_type": "code",
   "execution_count": 25,
   "metadata": {},
   "outputs": [],
   "source": [
    "root.insertaVal(9)"
   ]
  },
  {
   "cell_type": "code",
   "execution_count": 26,
   "metadata": {},
   "outputs": [
    {
     "name": "stdout",
     "output_type": "stream",
     "text": [
      "1\n",
      "3\n",
      "8\n",
      "9\n",
      "10\n",
      "13\n",
      "20\n"
     ]
    }
   ],
   "source": [
    "root.verVal()"
   ]
  }
 ],
 "metadata": {
  "kernelspec": {
   "display_name": "Python 3",
   "language": "python",
   "name": "python3"
  },
  "language_info": {
   "codemirror_mode": {
    "name": "ipython",
    "version": 3
   },
   "file_extension": ".py",
   "mimetype": "text/x-python",
   "name": "python",
   "nbconvert_exporter": "python",
   "pygments_lexer": "ipython3",
   "version": "3.9.7"
  }
 },
 "nbformat": 4,
 "nbformat_minor": 4
}
