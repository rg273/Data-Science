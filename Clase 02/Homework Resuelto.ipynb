{
 "cells": [
  {
   "cell_type": "markdown",
   "metadata": {},
   "source": [
    "# Práctica Clase 2"
   ]
  },
  {
   "cell_type": "markdown",
   "metadata": {},
   "source": [
    "1) Abrir el archivo \"Emisiones_CO2.csv\" y cargar sus datos en un diccionario."
   ]
  },
  {
   "cell_type": "code",
   "execution_count": 92,
   "metadata": {},
   "outputs": [],
   "source": [
    "import os\n",
    "archivo = open('Emisiones_CO2.csv', 'r', encoding='utf-8')"
   ]
  },
  {
   "cell_type": "code",
   "execution_count": 93,
   "metadata": {},
   "outputs": [],
   "source": [
    "dicc_emisiones = {  'cod_pais' : [],\n",
    "                    'nom_pais' : [],\n",
    "                    'region' : [],\n",
    "                    'anio' : [],\n",
    "                    'co2' : [],\n",
    "                    'co2_percapita' : []}"
   ]
  },
  {
   "cell_type": "code",
   "execution_count": 94,
   "metadata": {},
   "outputs": [],
   "source": [
    "encabezado = True\n",
    "for linea in archivo:\n",
    "    if (not encabezado):\n",
    "        campos = linea.split(sep='|')\n",
    "        dicc_emisiones['cod_pais'].append(campos[0])\n",
    "        dicc_emisiones['nom_pais'].append(campos[1])\n",
    "        dicc_emisiones['region'].append(campos[2])\n",
    "        dicc_emisiones['anio'].append(campos[3])\n",
    "        dicc_emisiones['co2'].append(campos[4])\n",
    "        dicc_emisiones['co2_percapita'].append(campos[5])\n",
    "    else:\n",
    "        encabezado = False"
   ]
  },
  {
   "cell_type": "code",
   "execution_count": 95,
   "metadata": {},
   "outputs": [],
   "source": [
    "archivo.close()"
   ]
  },
  {
   "cell_type": "markdown",
   "metadata": {},
   "source": [
    "2) a) ¿Cuántas variables hay? <br>\n",
    "b) ¿Qué tipos de datos usar para cada una? <br>\n",
    "c) ¿Qué tipo de variables son? <br>\n",
    "d) ¿Hay valores faltantes? <br>\n",
    "e) ¿Cuál es el total de emisiones de CO2 para 'América Latina y Caribe' en el año 2010?"
   ]
  },
  {
   "cell_type": "code",
   "execution_count": 96,
   "metadata": {},
   "outputs": [
    {
     "name": "stdout",
     "output_type": "stream",
     "text": [
      "100\n",
      "AND\n",
      "Andorra\n",
      "Europa y Asia Central\n",
      "2008\n",
      "539,049\n",
      "6,296124556\n",
      "\n"
     ]
    }
   ],
   "source": [
    "i = 100\n",
    "print(i)\n",
    "print(dicc_emisiones['cod_pais'][i])\n",
    "print(dicc_emisiones['nom_pais'][i])\n",
    "print(dicc_emisiones['region'][i])\n",
    "print(dicc_emisiones['anio'][i])\n",
    "print(dicc_emisiones['co2'][i])\n",
    "print(dicc_emisiones['co2_percapita'][i])"
   ]
  },
  {
   "cell_type": "code",
   "execution_count": 97,
   "metadata": {},
   "outputs": [],
   "source": [
    "for indice, elemento in enumerate(dicc_emisiones['co2']):\n",
    "    elemento = elemento.replace('.','')\n",
    "    elemento = elemento.replace(',','.')\n",
    "    if (elemento != ''):\n",
    "        elemento = float(elemento)\n",
    "    else:\n",
    "        elemento = None\n",
    "    dicc_emisiones['co2'][indice] = elemento"
   ]
  },
  {
   "cell_type": "code",
   "execution_count": 98,
   "metadata": {},
   "outputs": [],
   "source": [
    "for indice, elemento in enumerate(dicc_emisiones['co2_percapita']):\n",
    "    elemento = elemento.replace('\\n','')\n",
    "    elemento = elemento.replace('.','')\n",
    "    elemento = elemento.replace(',','.')\n",
    "    if (elemento != ''):\n",
    "        elemento = float(elemento)\n",
    "    else:\n",
    "        elemento = None\n",
    "    dicc_emisiones['co2_percapita'][indice] = elemento"
   ]
  },
  {
   "cell_type": "code",
   "execution_count": 100,
   "metadata": {},
   "outputs": [
    {
     "name": "stdout",
     "output_type": "stream",
     "text": [
      "Las emisiones en América Latina y Caribe en 2010 fueron de 1691634.8009999995 kt\n"
     ]
    }
   ],
   "source": [
    "filtro_region = 'América Latina y Caribe'\n",
    "filtro_anio = '2010'\n",
    "emisiones = 0\n",
    "for indice, elemento in enumerate(dicc_emisiones['region']):\n",
    "    if (dicc_emisiones['region'][indice] == filtro_region):\n",
    "        if (dicc_emisiones['anio'][indice] == filtro_anio):\n",
    "            if (dicc_emisiones['co2'][indice] != None):\n",
    "                emisiones += dicc_emisiones['co2'][indice]\n",
    "print('Las emisiones en', filtro_region, 'en', filtro_anio, 'fueron de',emisiones,'kt')"
   ]
  }
 ],
 "metadata": {
  "interpreter": {
   "hash": "c85384e4cb51c8b72350f3a8712cc8351fdc3955e32a27f9b60c6242ab125f01"
  },
  "kernelspec": {
   "display_name": "Python 3.9.7 ('henry')",
   "language": "python",
   "name": "python3"
  },
  "language_info": {
   "codemirror_mode": {
    "name": "ipython",
    "version": 3
   },
   "file_extension": ".py",
   "mimetype": "text/x-python",
   "name": "python",
   "nbconvert_exporter": "python",
   "pygments_lexer": "ipython3",
   "version": "3.9.7"
  },
  "orig_nbformat": 4
 },
 "nbformat": 4,
 "nbformat_minor": 2
}
