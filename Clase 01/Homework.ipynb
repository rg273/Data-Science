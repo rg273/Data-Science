{
 "cells": [
  {
   "cell_type": "markdown",
   "metadata": {},
   "source": [
    "# Práctica Clase 1 "
   ]
  },
  {
   "cell_type": "markdown",
   "metadata": {},
   "source": [
    "1) Crear una función capaz de convertir números enteros de base 10 a base 2. Debe recibir como parámetro el número a convertir<br>\n",
    "Consideraciones:<br> \n",
    "a. Tratar de resolverlo sin usar la función format(nro,\"b\")<br>\n",
    "b. El pdf \"conversion-de-decimal-a-binario.pdf\" puede servir de ayuda.\n"
   ]
  },
  {
   "cell_type": "code",
   "execution_count": 20,
   "metadata": {},
   "outputs": [],
   "source": [
    "def NumeroBinario(numero):\n",
    "    '''\n",
    "    Esta función recibe como parámetro un número entero mayor ó igual a cero y lo devuelve en su \n",
    "    representación binaria. Debe recibir y devolver un valor de tipo entero.\n",
    "    En caso de que el parámetro no sea de tipo entero y mayor a -1 retorna nulo.\n",
    "    '''\n",
    "    if (type(numero)!=int):\n",
    "        return None\n",
    "    if (numero < 0):\n",
    "        return None\n",
    "    base = 2\n",
    "    lista_base = [1]\n",
    "    lista_activos = [0]\n",
    "    while(base <= numero):\n",
    "        lista_base.append(base)\n",
    "        lista_activos.append(0)\n",
    "        base = base * 2\n",
    "    i = len(lista_base) - 1\n",
    "    numero_binario = 0\n",
    "    while(i >= 0):\n",
    "        if (numero_binario + lista_base[i] <= numero):\n",
    "            numero_binario += lista_base[i]\n",
    "            lista_activos[i]=1\n",
    "        i-=1\n",
    "\n",
    "    i = len(lista_base) - 1\n",
    "    numero_binario_final = ''\n",
    "    while(i >= 0):\n",
    "        numero_binario_final = numero_binario_final + str(lista_activos[i])\n",
    "        i-=1\n",
    "    return int(numero_binario_final)\n"
   ]
  },
  {
   "cell_type": "code",
   "execution_count": 27,
   "metadata": {},
   "outputs": [
    {
     "data": {
      "text/plain": [
       "11101"
      ]
     },
     "execution_count": 27,
     "metadata": {},
     "output_type": "execute_result"
    }
   ],
   "source": [
    "NumeroBinario(29)"
   ]
  },
  {
   "cell_type": "markdown",
   "metadata": {},
   "source": [
    "2) Convertir de decimal a binario las fracciones 1/2, 1/3, 1/4, 1/5, 1/6, 1/7, 1/8, 1/9. Luego analizar los resultados y observar qué particularidad se encuentra en los mismos. Se puede usar Python o una calculadora, lo importante es ver si hay algo que podemos notar..."
   ]
  },
  {
   "cell_type": "markdown",
   "metadata": {},
   "source": [
    "Método de la multiplicación sucesiva por 2:"
   ]
  },
  {
   "cell_type": "code",
   "execution_count": 38,
   "metadata": {},
   "outputs": [],
   "source": [
    "def NumeroBinarioFraccionario(fraccion):\n",
    "    div_resto = -1\n",
    "    div_entera = -1\n",
    "    fraccion_aux = fraccion\n",
    "    decimales = 0\n",
    "    numero_binario = ''\n",
    "    while ((div_resto != 0) and (decimales < 20)):\n",
    "        decimales+=1\n",
    "        fraccion_aux *= 2\n",
    "        div_resto = fraccion_aux % 1\n",
    "        div_entera = fraccion_aux // 1\n",
    "        numero_binario = numero_binario + str(int(div_entera))\n",
    "\n",
    "    numero_binario = '0.' + numero_binario\n",
    "    return numero_binario"
   ]
  },
  {
   "cell_type": "code",
   "execution_count": 39,
   "metadata": {},
   "outputs": [
    {
     "name": "stdout",
     "output_type": "stream",
     "text": [
      "Fraccion 1 / 2 en decimal: 0.5 y en binario: 0.1\n",
      "Fraccion 1 / 3 en decimal: 0.3333333333333333 y en binario: 0.01251021428517034168213652730546110922218454369087381174762349525\n",
      "Fraccion 1 / 4 en decimal: 0.25 y en binario: 0.01\n",
      "Fraccion 1 / 5 en decimal: 0.2 y en binario: 0.00136122551102204409819163832766553131072621452428104857209715\n",
      "Fraccion 1 / 6 en decimal: 0.16666666666666666 y en binario: 0.001251021428517034168213652730546110922218454369087381174762\n",
      "Fraccion 1 / 7 en decimal: 0.14285714285714285 y en binario: 0.0012491836731462925851170234046819362187243744974898149796\n",
      "Fraccion 1 / 8 en decimal: 0.125 y en binario: 0.001\n",
      "Fraccion 1 / 9 en decimal: 0.1111111111111111 y en binario: 0.000137142856113227455910182036407281145632912758254116508\n"
     ]
    }
   ],
   "source": [
    "for i in range(2,10):\n",
    "    valor = NumeroBinarioFraccionario(1/i)\n",
    "    print('Fraccion 1 /', i,'en decimal:',str(1/i), 'y en binario:',valor)"
   ]
  }
 ],
 "metadata": {
  "interpreter": {
   "hash": "c85384e4cb51c8b72350f3a8712cc8351fdc3955e32a27f9b60c6242ab125f01"
  },
  "kernelspec": {
   "display_name": "Python 3.9.7 ('henry')",
   "language": "python",
   "name": "python3"
  },
  "language_info": {
   "codemirror_mode": {
    "name": "ipython",
    "version": 3
   },
   "file_extension": ".py",
   "mimetype": "text/x-python",
   "name": "python",
   "nbconvert_exporter": "python",
   "pygments_lexer": "ipython3",
   "version": "3.9.7"
  },
  "orig_nbformat": 4
 },
 "nbformat": 4,
 "nbformat_minor": 2
}
