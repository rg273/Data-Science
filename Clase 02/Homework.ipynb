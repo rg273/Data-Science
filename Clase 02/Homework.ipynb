{
 "cells": [
  {
   "cell_type": "markdown",
   "metadata": {},
   "source": [
    "## Práctica Clase 1"
   ]
  },
  {
   "cell_type": "markdown",
   "metadata": {},
   "source": [
    "1) Crear una función capaz de convertir números enteros de una base a otra. Debe recibir como parámetro el número a convertir, la base inicial y la base destino"
   ]
  },
  {
   "cell_type": "markdown",
   "metadata": {},
   "source": [
    "2) Convertir de decimal a binario las fracciones 1/2, 1/3, 1/4, 1/5, 1/6, 1/7, 1/8, 1/9. Luego analizar los resultados y observar qué particularidad se encuentra en los mismos. Se puede usar Python o una calculadora, lo importante es ver si hay algo que podemos notar..."
   ]
  }
 ],
 "metadata": {
  "language_info": {
   "name": "python"
  },
  "orig_nbformat": 4
 },
 "nbformat": 4,
 "nbformat_minor": 2
}
