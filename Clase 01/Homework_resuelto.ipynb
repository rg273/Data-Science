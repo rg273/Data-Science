{
 "cells": [
  {
   "cell_type": "markdown",
   "metadata": {},
   "source": [
    "# Práctica Clase 1 "
   ]
  },
  {
   "cell_type": "markdown",
   "metadata": {},
   "source": [
    "1) Crear una función capaz de convertir números enteros de base 10 a base 2. Debe recibir como parámetro el número a convertir<br>\n",
    "Consideraciones:<br> \n",
    "a. Tratar de resolverlo sin usar la función format(nro,\"b\")<br>\n",
    "b. El pdf \"conversion-de-decimal-a-binario.pdf\" puede servir de ayuda.\n"
   ]
  },
  {
   "cell_type": "code",
   "execution_count": 12,
   "metadata": {},
   "outputs": [],
   "source": [
    "def NumeroBinario(numero):\n",
    "    '''\n",
    "    Esta función recibe como parámetro un número entero mayor ó igual a cero y lo devuelve en su \n",
    "    representación binaria. Debe recibir y devolver un valor de tipo entero.\n",
    "    En caso de que el parámetro no sea de tipo entero y mayor a -1 retorna nulo.\n",
    "    '''\n",
    "    if type(numero) != int or numero < 0: return None\n",
    "    elif numero == 0 : return 0\n",
    "    binario = ''\n",
    "    div_resto = 0\n",
    "    while numero > 0:\n",
    "        div_resto = numero % 2\n",
    "        numero //=  2\n",
    "        binario += str(div_resto)\n",
    "    binario = binario[::-1]\n",
    "    return int(binario)\n"
   ]
  },
  {
   "cell_type": "code",
   "execution_count": 14,
   "metadata": {},
   "outputs": [
    {
     "data": {
      "text/plain": [
       "11101"
      ]
     },
     "execution_count": 14,
     "metadata": {},
     "output_type": "execute_result"
    }
   ],
   "source": [
    "#Ejemplo:\n",
    "NumeroBinario(29)"
   ]
  },
  {
   "cell_type": "markdown",
   "metadata": {},
   "source": [
    "2) Convertir de decimal a binario las fracciones 1/2, 1/3, 1/4, 1/5, 1/6, 1/7, 1/8, 1/9. Luego analizar los resultados y observar qué particularidad se encuentra en los mismos. Se puede usar Python o una calculadora, lo importante es ver si hay algo que podemos notar..."
   ]
  },
  {
   "cell_type": "markdown",
   "metadata": {},
   "source": [
    "Salida esperada:\n",
    "* Fraccion 1 / 2 :  0.5  y En binario:  0.1\n",
    "* Fraccion 1 / 3 :  0.3333333333333333  y En binario:  0.010101010101010101010101\n",
    "* Fraccion 1 / 4 :  0.25  y En binario:  0.01\n",
    "* Fraccion 1 / 5 :  0.2  y En binario:  0.001100110011001100110011\n",
    "* Fraccion 1 / 6 :  0.16666666666666666  y En binario:  0.001010101010101010101010\n",
    "* Fraccion 1 / 7 :  0.14285714285714285  y En binario:  0.001001001001001001001001\n",
    "* Fraccion 1 / 8 :  0.125  y En binario:  0.001\n",
    "* Fraccion 1 / 9 :  0.1111111111111111  y En binario:  0.000111000111000111000111"
   ]
  },
  {
   "cell_type": "code",
   "execution_count": 26,
   "metadata": {},
   "outputs": [],
   "source": [
    "def numeroBinarioFraccion(numero_decimal):\n",
    "   if type(numero_decimal) != float: return None\n",
    "   elif numero_decimal > 1 or numero_decimal < 0: return None\n",
    "   elif numero_decimal == 0: return 0\n",
    "   limite_decimales = 24\n",
    "   lista_binario = []\n",
    "   i = 0\n",
    "   while numero_decimal > 0 and i < limite_decimales:\n",
    "      lista_binario.append(int(numero_decimal * 2))\n",
    "      numero_decimal = numero_decimal * 2 - (int(numero_decimal * 2))\n",
    "      i += 1\n",
    "   numero_binario = '0.'\n",
    "   for n in lista_binario:\n",
    "      numero_binario += str(n)\n",
    "   \n",
    "   return numero_binario\n"
   ]
  },
  {
   "cell_type": "code",
   "execution_count": 28,
   "metadata": {},
   "outputs": [
    {
     "name": "stdout",
     "output_type": "stream",
     "text": [
      "Fraccion 1 / 2 : 0.5 y En binario: 0.1\n",
      "Fraccion 1 / 3 : 0.3333333333333333 y En binario: 0.010101010101010101010101\n",
      "Fraccion 1 / 4 : 0.25 y En binario: 0.01\n",
      "Fraccion 1 / 5 : 0.2 y En binario: 0.001100110011001100110011\n",
      "Fraccion 1 / 6 : 0.16666666666666666 y En binario: 0.001010101010101010101010\n",
      "Fraccion 1 / 7 : 0.14285714285714285 y En binario: 0.001001001001001001001001\n",
      "Fraccion 1 / 8 : 0.125 y En binario: 0.001\n",
      "Fraccion 1 / 9 : 0.1111111111111111 y En binario: 0.000111000111000111000111\n"
     ]
    }
   ],
   "source": [
    "for i in range(2, 10):\n",
    "   print('Fraccion 1 /', i, ':', str(1/i), 'y En binario:', numeroBinarioFraccion(1/i))"
   ]
  }
 ],
 "metadata": {
  "interpreter": {
   "hash": "11938c6bc6919ae2720b4d5011047913343b08a43b18698fd82dedb0d4417594"
  },
  "kernelspec": {
   "display_name": "Python 3.9.7 64-bit",
   "language": "python",
   "name": "python3"
  },
  "language_info": {
   "codemirror_mode": {
    "name": "ipython",
    "version": 3
   },
   "file_extension": ".py",
   "mimetype": "text/x-python",
   "name": "python",
   "nbconvert_exporter": "python",
   "pygments_lexer": "ipython3",
   "version": "3.9.7"
  },
  "orig_nbformat": 4
 },
 "nbformat": 4,
 "nbformat_minor": 2
}
