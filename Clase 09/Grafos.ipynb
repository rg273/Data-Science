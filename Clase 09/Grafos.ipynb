{
 "cells": [
  {
   "cell_type": "code",
   "execution_count": 6,
   "metadata": {},
   "outputs": [],
   "source": [
    "import sys\n",
    "\n",
    "class Graph():\n",
    "    def __init__(self, vertx):\n",
    "      self.V = vertx\n",
    "      self.graph = [[0 for column in range(vertx)]\n",
    "                      for row in range(vertx)]\n",
    "                      \n",
    "    def pSol(self, dist):\n",
    "        print(\"Distancia del vértice desde el orígen\")\n",
    "        for node in range(self.V):\n",
    "            print(node, \"t\", dist[node])\n",
    "\n",
    "    def minDistance(self, dist, sptSet):\n",
    "        min = sys.maxsize\n",
    "        for v in range(self.V):\n",
    "            if dist[v] < min and sptSet[v] == False:\n",
    "                min = dist[v]\n",
    "                min_index = v\n",
    "        return min_index\n",
    " \n",
    "    def dijk(self, source):\n",
    "        dist = [sys.maxsize] * self.V\n",
    "        dist[source] = 0\n",
    "        sptSet = [False] * self.V\n",
    "        for cout in range(self.V):\n",
    "            u = self.minDistance(dist, sptSet)\n",
    "            sptSet[u] = True\n",
    "            for v in range(self.V):\n",
    "                if ((self.graph[u][v] > 0) \n",
    "                    and (sptSet[v] == False) \n",
    "                    and (dist[v] > dist[u] + self.graph[u][v])):\n",
    "                    dist[v] = dist[u] + self.graph[u][v]\n",
    "        self.pSol(dist)"
   ]
  },
  {
   "cell_type": "code",
   "execution_count": 7,
   "metadata": {},
   "outputs": [
    {
     "data": {
      "text/plain": [
       "[[0, 0, 0, 0, 0, 0, 0, 0, 0],\n",
       " [0, 0, 0, 0, 0, 0, 0, 0, 0],\n",
       " [0, 0, 0, 0, 0, 0, 0, 0, 0],\n",
       " [0, 0, 0, 0, 0, 0, 0, 0, 0],\n",
       " [0, 0, 0, 0, 0, 0, 0, 0, 0],\n",
       " [0, 0, 0, 0, 0, 0, 0, 0, 0],\n",
       " [0, 0, 0, 0, 0, 0, 0, 0, 0],\n",
       " [0, 0, 0, 0, 0, 0, 0, 0, 0],\n",
       " [0, 0, 0, 0, 0, 0, 0, 0, 0]]"
      ]
     },
     "execution_count": 7,
     "metadata": {},
     "output_type": "execute_result"
    }
   ],
   "source": [
    "f = Graph(9)\n",
    "f.graph"
   ]
  },
  {
   "cell_type": "code",
   "execution_count": 8,
   "metadata": {},
   "outputs": [],
   "source": [
    "f.graph = [[0, 4, 0, 0, 0, 0, 0, 8, 0],\n",
    "           [4, 0, 8, 0, 0, 0, 0, 11, 0],\n",
    "           [0, 8, 0, 7, 0, 4, 0, 0, 2],\n",
    "           [0, 0, 7, 0, 9, 14, 0, 0, 0],\n",
    "           [0, 0, 0, 9, 0, 10, 0, 0, 0],\n",
    "           [0, 0, 4, 14, 10, 0, 2, 0, 0],\n",
    "           [0, 0, 0, 0, 0, 2, 0, 1, 6],\n",
    "           [8, 11, 0, 0, 0, 0, 1, 0, 7],\n",
    "           [0, 0, 2, 0, 0, 0, 6, 7, 0]\n",
    "           ]"
   ]
  },
  {
   "cell_type": "code",
   "execution_count": 9,
   "metadata": {},
   "outputs": [
    {
     "name": "stdout",
     "output_type": "stream",
     "text": [
      "Distancia del vértice desde el orígen\n",
      "0 t 0\n",
      "1 t 4\n",
      "2 t 12\n",
      "3 t 19\n",
      "4 t 21\n",
      "5 t 11\n",
      "6 t 9\n",
      "7 t 8\n",
      "8 t 14\n"
     ]
    }
   ],
   "source": [
    "f.dijk(0)"
   ]
  },
  {
   "cell_type": "code",
   "execution_count": 10,
   "metadata": {},
   "outputs": [],
   "source": [
    "f = Graph(5)\n",
    "f.graph = [[0, 1, 0, 0, 0],\n",
    "           [1, 0, 1, 1, 0],\n",
    "           [0, 1, 0, 0, 0],\n",
    "           [0, 1, 0, 0, 1],\n",
    "           [0, 0, 0, 1, 0]]"
   ]
  },
  {
   "cell_type": "code",
   "execution_count": 11,
   "metadata": {},
   "outputs": [
    {
     "name": "stdout",
     "output_type": "stream",
     "text": [
      "Distancia del vértice desde el orígen\n",
      "0 t 0\n",
      "1 t 1\n",
      "2 t 2\n",
      "3 t 2\n",
      "4 t 3\n"
     ]
    }
   ],
   "source": [
    "f.dijk(0)"
   ]
  }
 ],
 "metadata": {
  "interpreter": {
   "hash": "c85384e4cb51c8b72350f3a8712cc8351fdc3955e32a27f9b60c6242ab125f01"
  },
  "kernelspec": {
   "display_name": "Python 3.9.7 ('henry')",
   "language": "python",
   "name": "python3"
  },
  "language_info": {
   "codemirror_mode": {
    "name": "ipython",
    "version": 3
   },
   "file_extension": ".py",
   "mimetype": "text/x-python",
   "name": "python",
   "nbconvert_exporter": "python",
   "pygments_lexer": "ipython3",
   "version": "3.9.7"
  },
  "orig_nbformat": 4
 },
 "nbformat": 4,
 "nbformat_minor": 2
}
