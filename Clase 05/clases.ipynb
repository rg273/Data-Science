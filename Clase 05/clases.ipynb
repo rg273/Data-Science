{
 "cells": [
  {
   "cell_type": "code",
   "execution_count": 2,
   "metadata": {},
   "outputs": [],
   "source": [
    "class EstructuraPila(object):\n",
    "   def __init__(self):\n",
    "      self.__list = []\n",
    "   # Agregar un elemento a la Pila\n",
    "   def push(self, item):\n",
    "      self.__list.append(item)\n",
    "   # Quitar un elemento de la Pila\n",
    "   def pop(self):\n",
    "      return self.__list.pop()\n",
    "   "
   ]
  },
  {
   "cell_type": "code",
   "execution_count": 7,
   "metadata": {},
   "outputs": [
    {
     "ename": "IndexError",
     "evalue": "pop from empty list",
     "output_type": "error",
     "traceback": [
      "\u001b[1;31m---------------------------------------------------------------------------\u001b[0m",
      "\u001b[1;31mIndexError\u001b[0m                                Traceback (most recent call last)",
      "\u001b[1;32mc:\\Users\\gonza\\Desktop\\clases.ipynb Cell 2'\u001b[0m in \u001b[0;36m<cell line: 4>\u001b[1;34m()\u001b[0m\n\u001b[0;32m      <a href='vscode-notebook-cell:/c%3A/Users/gonza/Desktop/clases.ipynb#ch0000001?line=0'>1</a>\u001b[0m mi_pila \u001b[39m=\u001b[39m EstructuraPila()\n\u001b[0;32m      <a href='vscode-notebook-cell:/c%3A/Users/gonza/Desktop/clases.ipynb#ch0000001?line=2'>3</a>\u001b[0m \u001b[39m#mi_pila.push(6)\u001b[39;00m\n\u001b[1;32m----> <a href='vscode-notebook-cell:/c%3A/Users/gonza/Desktop/clases.ipynb#ch0000001?line=3'>4</a>\u001b[0m mi_pila\u001b[39m.\u001b[39;49mpop()\n",
      "\u001b[1;32mc:\\Users\\gonza\\Desktop\\clases.ipynb Cell 1'\u001b[0m in \u001b[0;36mEstructuraPila.pop\u001b[1;34m(self)\u001b[0m\n\u001b[0;32m      <a href='vscode-notebook-cell:/c%3A/Users/gonza/Desktop/clases.ipynb#ch0000000?line=7'>8</a>\u001b[0m \u001b[39mdef\u001b[39;00m \u001b[39mpop\u001b[39m(\u001b[39mself\u001b[39m):\n\u001b[1;32m----> <a href='vscode-notebook-cell:/c%3A/Users/gonza/Desktop/clases.ipynb#ch0000000?line=8'>9</a>\u001b[0m    \u001b[39mreturn\u001b[39;00m \u001b[39mself\u001b[39;49m\u001b[39m.\u001b[39;49m__list\u001b[39m.\u001b[39;49mpop()\n",
      "\u001b[1;31mIndexError\u001b[0m: pop from empty list"
     ]
    }
   ],
   "source": [
    "mi_pila = EstructuraPila()\n",
    "\n",
    "#mi_pila.push(6)\n",
    "mi_pila.pop()"
   ]
  }
 ],
 "metadata": {
  "interpreter": {
   "hash": "11938c6bc6919ae2720b4d5011047913343b08a43b18698fd82dedb0d4417594"
  },
  "kernelspec": {
   "display_name": "Python 3.9.7 64-bit",
   "language": "python",
   "name": "python3"
  },
  "language_info": {
   "codemirror_mode": {
    "name": "ipython",
    "version": 3
   },
   "file_extension": ".py",
   "mimetype": "text/x-python",
   "name": "python",
   "nbconvert_exporter": "python",
   "pygments_lexer": "ipython3",
   "version": "3.9.7"
  },
  "orig_nbformat": 4
 },
 "nbformat": 4,
 "nbformat_minor": 2
}
